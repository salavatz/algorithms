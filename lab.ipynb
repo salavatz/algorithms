{
 "cells": [
  {
   "cell_type": "code",
   "execution_count": 16,
   "metadata": {},
   "outputs": [],
   "source": [
    "import numpy as np"
   ]
  },
  {
   "cell_type": "markdown",
   "metadata": {},
   "source": [
    "1"
   ]
  },
  {
   "cell_type": "code",
   "execution_count": 28,
   "metadata": {},
   "outputs": [
    {
     "name": "stdout",
     "output_type": "stream",
     "text": [
      "[ 4 10  6  1]\n",
      "1\n"
     ]
    }
   ],
   "source": [
    "x = np.array([4, 10, 6, 1]) \n",
    "s = sum(x) \n",
    "print(x) \n",
    "def delta(left, i): \n",
    "    if (i == x.size - 1): \n",
    "        return abs(s - 2 * left) \n",
    "    else: \n",
    "        return min(delta(left, i + 1), delta(left + x[i + 1], i + 1)) \n",
    "print(delta(x[0], 0)) "
   ]
  },
  {
   "cell_type": "markdown",
   "metadata": {},
   "source": [
    "2"
   ]
  },
  {
   "cell_type": "code",
   "execution_count": 29,
   "metadata": {},
   "outputs": [
    {
     "name": "stdout",
     "output_type": "stream",
     "text": [
      "False\n",
      "False\n"
     ]
    }
   ],
   "source": [
    "def deltaIsZero(left, i): \n",
    "    if (i == x.size - 1): \n",
    "        return s == 2 * left \n",
    "    else:  \n",
    "        return deltaIsZero(left, i + 1) or deltaIsZero(left + x[i + 1], i + 1) \n",
    "print(False if delta(x[0],0) > 0 else True) \n",
    "print(deltaIsZero(x[0], 0)) "
   ]
  },
  {
   "cell_type": "markdown",
   "metadata": {},
   "source": [
    "3"
   ]
  },
  {
   "cell_type": "code",
   "execution_count": 45,
   "metadata": {},
   "outputs": [
    {
     "name": "stdout",
     "output_type": "stream",
     "text": [
      "False\n"
     ]
    }
   ],
   "source": [
    "y = np.array([4, 10, -5, 2, 4]) \n",
    "a = 17\n",
    "def d(num, i):  \n",
    "    if (i == y.size - 1): \n",
    "        return num == a \n",
    "    else: \n",
    "        return d(num, i + 1) or d(num + y[i + 1], i + 1) \n",
    "print(d(x[0], 0)) "
   ]
  },
  {
   "cell_type": "markdown",
   "metadata": {},
   "source": [
    "4"
   ]
  },
  {
   "cell_type": "code",
   "execution_count": 17,
   "metadata": {},
   "outputs": [],
   "source": [
    "a = np.array([4, -2, 3, 5, 6, -10, 1])\n",
    "ans = a[0]\n",
    "l_seq = 0\n",
    "r_seq = 0\n",
    "s = 0\n",
    "min_s = 0\n",
    "min_i = -1\n",
    "for r in range(a.size):\n",
    "    s += a[r]\n",
    "    sum_seq = s - min_s\n",
    "    if (sum_seq > ans):\n",
    "        ans = sum_seq\n",
    "        l_seq = min_i + 1\n",
    "        r_seq = r\n",
    "    if (sum_seq < 0): \n",
    "        min_s = s\n",
    "        min_i = r"
   ]
  },
  {
   "cell_type": "code",
   "execution_count": 18,
   "metadata": {},
   "outputs": [
    {
     "name": "stdout",
     "output_type": "stream",
     "text": [
      "[ 4 -2  3  5  6]\n"
     ]
    }
   ],
   "source": [
    "print(a[l_seq: r_seq + 1])"
   ]
  }
 ],
 "metadata": {
  "kernelspec": {
   "display_name": "Python 3",
   "language": "python",
   "name": "python3"
  },
  "language_info": {
   "codemirror_mode": {
    "name": "ipython",
    "version": 3
   },
   "file_extension": ".py",
   "mimetype": "text/x-python",
   "name": "python",
   "nbconvert_exporter": "python",
   "pygments_lexer": "ipython3",
   "version": "3.6.5"
  }
 },
 "nbformat": 4,
 "nbformat_minor": 2
}
